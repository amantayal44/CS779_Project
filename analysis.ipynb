{
  "nbformat": 4,
  "nbformat_minor": 0,
  "metadata": {
    "colab": {
      "name": "analysis.ipynb",
      "provenance": [],
      "collapsed_sections": [],
      "authorship_tag": "ABX9TyMkemjwT67bNwOuL7W6MHVU",
      "include_colab_link": true
    },
    "kernelspec": {
      "name": "python3",
      "display_name": "Python 3"
    },
    "language_info": {
      "name": "python"
    }
  },
  "cells": [
    {
      "cell_type": "markdown",
      "metadata": {
        "id": "view-in-github",
        "colab_type": "text"
      },
      "source": [
        "<a href=\"https://colab.research.google.com/github/amantayal44/CS779_Project/blob/main/analysis.ipynb\" target=\"_parent\"><img src=\"https://colab.research.google.com/assets/colab-badge.svg\" alt=\"Open In Colab\"/></a>"
      ]
    },
    {
      "cell_type": "code",
      "metadata": {
        "colab": {
          "base_uri": "https://localhost:8080/"
        },
        "id": "2f8kr-dmzG1t",
        "outputId": "dbe0ccd4-3ae8-4422-d7e8-fcac93372f78"
      },
      "source": [
        "from google.colab import drive\n",
        "drive.mount('/content/gdrive')"
      ],
      "execution_count": null,
      "outputs": [
        {
          "output_type": "stream",
          "text": [
            "Mounted at /content/gdrive\n"
          ],
          "name": "stdout"
        }
      ]
    },
    {
      "cell_type": "code",
      "metadata": {
        "id": "SBKRBu6tzOYl"
      },
      "source": [
        "from collections  import Counter\n",
        "import math\n",
        "import random\n",
        "import numpy as np\n",
        "from tqdm.notebook import tqdm\n",
        "import torch\n",
        "from torch import nn\n",
        "from torch.nn import LSTM,GRU,Linear,Embedding,Transformer\n",
        "import torch.optim as optim\n",
        "from torch.nn.functional import logsigmoid\n",
        "import time\n",
        "from sklearn.model_selection import train_test_split\n",
        "from torch.utils.data import DataLoader\n",
        "import pickle\n",
        "import csv\n",
        "import matplotlib.pyplot as plt\n",
        "%matplotlib inline"
      ],
      "execution_count": null,
      "outputs": []
    },
    {
      "cell_type": "code",
      "metadata": {
        "id": "pOYZuIgLzr5b"
      },
      "source": [
        "original_files = [\"original/o1\",\"original/o2\",\"original/o3\",\"original/o4\",\"original/o5\"]\n",
        "swapped_files = [\"swapped/s1\",\"swapped/s2\",\"swapped/s3\",\"swapped/s4\",\"swapped/s5\"]"
      ],
      "execution_count": null,
      "outputs": []
    },
    {
      "cell_type": "code",
      "metadata": {
        "id": "W-vFOa-EzuoI"
      },
      "source": [
        "#loading sentences\n",
        "length = []\n",
        "original_sentences = []\n",
        "words = Counter()\n",
        "for file in original_files:\n",
        "  with open(\"gdrive/MyDrive/data/{}.csv\".format(file),encoding=\"utf-8\") as f:\n",
        "    csv_reader = csv.reader(f, delimiter=',')\n",
        "    i = 0\n",
        "    for r in csv_reader:\n",
        "      if i == 0:\n",
        "        i = 1\n",
        "        continue\n",
        "      length.append(int(r[4]))\n",
        "      original_sentences.append(r[3])\n",
        "      words.update(r[3].split())\n",
        "\n"
      ],
      "execution_count": null,
      "outputs": []
    },
    {
      "cell_type": "code",
      "metadata": {
        "colab": {
          "base_uri": "https://localhost:8080/"
        },
        "id": "p2Ba_FeJ0i2m",
        "outputId": "95e6b198-7459-4ade-b058-b43a59e9c0b7"
      },
      "source": [
        "len(original_sentences), len(words)"
      ],
      "execution_count": null,
      "outputs": [
        {
          "output_type": "execute_result",
          "data": {
            "text/plain": [
              "(499995, 220264)"
            ]
          },
          "metadata": {
            "tags": []
          },
          "execution_count": 19
        }
      ]
    },
    {
      "cell_type": "code",
      "metadata": {
        "colab": {
          "base_uri": "https://localhost:8080/"
        },
        "id": "2WhbpmDU0pOO",
        "outputId": "2e409149-64cc-4166-bda2-61197d5bdf6b"
      },
      "source": [
        "print(max(length),min(length))"
      ],
      "execution_count": null,
      "outputs": [
        {
          "output_type": "stream",
          "text": [
            "620 1\n"
          ],
          "name": "stdout"
        }
      ]
    },
    {
      "cell_type": "code",
      "metadata": {
        "colab": {
          "base_uri": "https://localhost:8080/"
        },
        "id": "xQo-mXUA2eFt",
        "outputId": "bd62278f-0828-4041-c52e-d527ede70b92"
      },
      "source": [
        "sum([l>100 for l in length])"
      ],
      "execution_count": null,
      "outputs": [
        {
          "output_type": "execute_result",
          "data": {
            "text/plain": [
              "6178"
            ]
          },
          "metadata": {
            "tags": []
          },
          "execution_count": 23
        }
      ]
    },
    {
      "cell_type": "code",
      "metadata": {
        "colab": {
          "base_uri": "https://localhost:8080/",
          "height": 404
        },
        "id": "L4Bnas5V0w0g",
        "outputId": "0f624ff7-b3f4-4ea1-916c-ca3f7a2ece84"
      },
      "source": [
        "#length histogram\n",
        "# fig,axes = plt.subplots(nrows=1,ncols=2,figsize=(10,6))\n",
        "plt.figure(figsize=(8,6))\n",
        "plt.hist(length,bins=[10*i for i in range(12)],color='#0504aa',alpha=0.7, rwidth=0.85)\n",
        "plt.xticks([10*i for i in range(12)])\n",
        "plt.xlabel(\"length\")\n",
        "plt.title(\"length of sentences\")\n",
        "plt.ylabel(\"number of sentences\")\n",
        "\n",
        "plt.savefig(\"length_train.png\",dpi=720)"
      ],
      "execution_count": null,
      "outputs": [
        {
          "output_type": "display_data",
          "data": {
            "image/png": "[encoded data removed]",
            "text/plain": [
              "<Figure size 576x432 with 1 Axes>"
            ]
          },
          "metadata": {
            "tags": [],
            "needs_background": "light"
          }
        }
      ]
    },
    {
      "cell_type": "code",
      "metadata": {
        "colab": {
          "base_uri": "https://localhost:8080/"
        },
        "id": "hhx4T2lm3a1F",
        "outputId": "a3c024b1-5065-48d8-a63c-178518420471"
      },
      "source": [
        "#word frequency\n",
        "freq = [f for w,f in words.items()]\n",
        "top_words = words.most_common(15)\n",
        "print(top_words)"
      ],
      "execution_count": null,
      "outputs": [
        {
          "output_type": "stream",
          "text": [
            "[('the', 1148625), ('of', 582429), ('and', 464204), ('in', 419369), ('to', 343700), ('a', 322733), ('is', 164647), ('as', 149668), ('was', 135943), ('for', 124622), ('s', 122047), ('that', 120963), ('by', 117970), ('with', 111697), ('on', 99563)]\n"
          ],
          "name": "stdout"
        }
      ]
    },
    {
      "cell_type": "code",
      "metadata": {
        "colab": {
          "base_uri": "https://localhost:8080/",
          "height": 404
        },
        "id": "b4UZthgI32z9",
        "outputId": "6658770d-3337-4184-c2ca-9b99c11f9bbc"
      },
      "source": [
        "#plot of top words\n",
        "plt.figure(figsize=(8,6))\n",
        "plt.plot([w for w,_ in top_words],[f for  _,f in top_words])\n",
        "plt.yticks(ticks=[0.2*(10**6),0.4*(10**6),0.6*(10**6),0.8*(10**6),1*(10**6),1.2*(10**6)],labels=[\"0.2\",\"0.4\",\"0.6\",\"0.8\",\"1.0\",\"1.2\"])\n",
        "plt.xlabel(\"words\")\n",
        "plt.ylabel(\"frequency (in millions)\")\n",
        "plt.title(\"frequency of top 15 words in dataset\")\n",
        "plt.savefig(\"word_freq_plot.png\",dpi=720)"
      ],
      "execution_count": null,
      "outputs": [
        {
          "output_type": "display_data",
          "data": {
            "image/png": "[encoded data removed]",
            "text/plain": [
              "<Figure size 576x432 with 1 Axes>"
            ]
          },
          "metadata": {
            "tags": [],
            "needs_background": "light"
          }
        }
      ]
    },
    {
      "cell_type": "code",
      "metadata": {
        "colab": {
          "base_uri": "https://localhost:8080/",
          "height": 404
        },
        "id": "mUZopdNR3o5m",
        "outputId": "85ac91be-3503-4763-eec3-4e9cc3dec8d8"
      },
      "source": [
        "#histogram of word frequency\n",
        "plt.figure(figsize=(8,6))\n",
        "plt.hist(freq,bins=[5*i for i in range(12)],color='#0504aa',alpha=0.7, rwidth=0.85)\n",
        "plt.xticks([5*i for i in range(12)])\n",
        "plt.xlabel(\"frquency\")\n",
        "plt.title(\"words in dataset\")\n",
        "plt.ylabel(\"number of words\")\n",
        "\n",
        "plt.savefig(\"word_freq.png\",dpi=720)"
      ],
      "execution_count": null,
      "outputs": [
        {
          "output_type": "display_data",
          "data": {
            "image/png": "[encoded data removed]",
            "text/plain": [
              "<Figure size 576x432 with 1 Axes>"
            ]
          },
          "metadata": {
            "tags": [],
            "needs_background": "light"
          }
        }
      ]
    },
    {
      "cell_type": "code",
      "metadata": {
        "id": "cd9jWbBq6yGL"
      },
      "source": [
        "# !cp *.png gdrive/MyDrive/data/plots"
      ],
      "execution_count": null,
      "outputs": []
    },
    {
      "cell_type": "code",
      "metadata": {
        "colab": {
          "base_uri": "https://localhost:8080/"
        },
        "id": "Nvh1RZYt7ETK",
        "outputId": "22d99de4-0333-42eb-abf3-8b729cf4f932"
      },
      "source": [
        "#analysis of male and female gendered words\n",
        "male = []\n",
        "female = []\n",
        "with open(\"gender_list_1.csv\".format(file),encoding=\"utf-8\") as f:\n",
        "    csv_reader = csv.reader(f, delimiter=',')\n",
        "    i = 0\n",
        "    for r in csv_reader:\n",
        "      if i == 0:\n",
        "        i = 1\n",
        "        continue\n",
        "      \n",
        "      male.append(r[0].split(\".\")[0])\n",
        "      female.append(r[1].split(\".\")[0])\n",
        "     "
      ],
      "execution_count": null,
      "outputs": [
        {
          "output_type": "stream",
          "text": [
            "Female word\n"
          ],
          "name": "stdout"
        }
      ]
    },
    {
      "cell_type": "code",
      "metadata": {
        "colab": {
          "base_uri": "https://localhost:8080/"
        },
        "id": "q4UaqhGy8AIU",
        "outputId": "310be864-1bae-4b6a-a282-f8025482bf7e"
      },
      "source": [
        "len(male),len(female)"
      ],
      "execution_count": null,
      "outputs": [
        {
          "output_type": "execute_result",
          "data": {
            "text/plain": [
              "(207, 207)"
            ]
          },
          "metadata": {
            "tags": []
          },
          "execution_count": 86
        }
      ]
    },
    {
      "cell_type": "code",
      "metadata": {
        "id": "BJVt77JW8FxK"
      },
      "source": [
        "#calculating there frequencys\n",
        "freq_male = dict()\n",
        "freq_female = dict()\n",
        "for m in male:\n",
        "  freq_male[m]=words[m]\n",
        "for f in female:\n",
        "  freq_female[f]=words[f]\n"
      ],
      "execution_count": null,
      "outputs": []
    },
    {
      "cell_type": "code",
      "metadata": {
        "colab": {
          "base_uri": "https://localhost:8080/"
        },
        "id": "XOqJLv5685MU",
        "outputId": "4b4e8ebc-e54e-40e8-e0f2-4364ee4f2158"
      },
      "source": [
        "count = 0\n",
        "top_words = []\n",
        "for i in range(len(male)):\n",
        "  c = freq_male[male[i]] + freq_female[female[i]]\n",
        "  if c < 20:\n",
        "    count += 1\n",
        "  top_words.append([c,male[i],female[i],freq_male[male[i]],freq_female[female[i]]])\n",
        "print(count)"
      ],
      "execution_count": null,
      "outputs": [
        {
          "output_type": "stream",
          "text": [
            "60\n"
          ],
          "name": "stdout"
        }
      ]
    },
    {
      "cell_type": "code",
      "metadata": {
        "id": "TL-JPTlj_P_Z"
      },
      "source": [
        "#finding top male and female words\n",
        "top_words.sort(key=lambda x: -x[0])"
      ],
      "execution_count": null,
      "outputs": []
    },
    {
      "cell_type": "code",
      "metadata": {
        "colab": {
          "base_uri": "https://localhost:8080/"
        },
        "id": "XQq2vUMH_XeD",
        "outputId": "83a1a74a-0d1e-49f2-fa49-724764767cca"
      },
      "source": [
        "for i,v in enumerate(top_words[:20]):\n",
        "  print(v[1],v[3],v[2],v[4],sep=\",\")"
      ],
      "execution_count": null,
      "outputs": [
        {
          "output_type": "stream",
          "text": [
            "his,65130,her,12275\n",
            "he,53889,she,7773\n",
            "him,11126,her,12275\n",
            "men,4385,women,4209\n",
            "king,5409,queen,1383\n",
            "father,3546,mother,2364\n",
            "man,4061,woman,1518\n",
            "son,3744,daughter,1664\n",
            "god,4750,godess,0\n",
            "himself,3297,herself,442\n",
            "emperor,3175,empress,363\n",
            "male,1627,female,1791\n",
            "brother,1822,sister,1037\n",
            "husband,757,wife,1951\n",
            "lord,1490,lady,645\n",
            "hubby,0,wife,1951\n",
            "prince,1360,princess,360\n",
            "governor,1474,governess,31\n",
            "males,744,females,629\n",
            "host,1142,hostess,13\n"
          ],
          "name": "stdout"
        }
      ]
    },
    {
      "cell_type": "code",
      "metadata": {
        "colab": {
          "base_uri": "https://localhost:8080/"
        },
        "id": "UQMnxlP_AFjk",
        "outputId": "3b587bdc-d81b-454d-a756-9e1bf9a41cb1"
      },
      "source": [
        "sum(freq_male.values()) , sum(freq_female.values())"
      ],
      "execution_count": null,
      "outputs": [
        {
          "output_type": "execute_result",
          "data": {
            "text/plain": [
              "(195419, 45463)"
            ]
          },
          "metadata": {
            "tags": []
          },
          "execution_count": 94
        }
      ]
    },
    {
      "cell_type": "code",
      "metadata": {
        "id": "JChMd3GrPCx4"
      },
      "source": [
        ""
      ],
      "execution_count": null,
      "outputs": []
    }
  ]
}