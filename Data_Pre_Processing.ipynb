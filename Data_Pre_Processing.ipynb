{
  "nbformat": 4,
  "nbformat_minor": 0,
  "metadata": {
    "colab": {
      "name": "Date Pre-Processing.ipynb",
      "provenance": [],
      "collapsed_sections": []
    },
    "kernelspec": {
      "name": "python3",
      "display_name": "Python 3"
    },
    "language_info": {
      "name": "python"
    },
    "widgets": {
      "application/vnd.jupyter.widget-state+json": {
        "248248cdd240484ebd96c9cbeb8cef27": {
          "model_module": "@jupyter-widgets/controls",
          "model_name": "HBoxModel",
          "state": {
            "_view_name": "HBoxView",
            "_dom_classes": [],
            "_model_name": "HBoxModel",
            "_view_module": "@jupyter-widgets/controls",
            "_model_module_version": "1.5.0",
            "_view_count": null,
            "_view_module_version": "1.5.0",
            "box_style": "",
            "layout": "IPY_MODEL_5a418720133e4dc3b256c5a91aa0be1e",
            "_model_module": "@jupyter-widgets/controls",
            "children": [
              "IPY_MODEL_096f3f2646224fd4a8b30aca0f23fa2a",
              "IPY_MODEL_0c8d5564b174405da39ede74d7009339"
            ]
          }
        },
        "5a418720133e4dc3b256c5a91aa0be1e": {
          "model_module": "@jupyter-widgets/base",
          "model_name": "LayoutModel",
          "state": {
            "_view_name": "LayoutView",
            "grid_template_rows": null,
            "right": null,
            "justify_content": null,
            "_view_module": "@jupyter-widgets/base",
            "overflow": null,
            "_model_module_version": "1.2.0",
            "_view_count": null,
            "flex_flow": null,
            "width": null,
            "min_width": null,
            "border": null,
            "align_items": null,
            "bottom": null,
            "_model_module": "@jupyter-widgets/base",
            "top": null,
            "grid_column": null,
            "overflow_y": null,
            "overflow_x": null,
            "grid_auto_flow": null,
            "grid_area": null,
            "grid_template_columns": null,
            "flex": null,
            "_model_name": "LayoutModel",
            "justify_items": null,
            "grid_row": null,
            "max_height": null,
            "align_content": null,
            "visibility": null,
            "align_self": null,
            "height": null,
            "min_height": null,
            "padding": null,
            "grid_auto_rows": null,
            "grid_gap": null,
            "max_width": null,
            "order": null,
            "_view_module_version": "1.2.0",
            "grid_template_areas": null,
            "object_position": null,
            "object_fit": null,
            "grid_auto_columns": null,
            "margin": null,
            "display": null,
            "left": null
          }
        },
        "096f3f2646224fd4a8b30aca0f23fa2a": {
          "model_module": "@jupyter-widgets/controls",
          "model_name": "FloatProgressModel",
          "state": {
            "_view_name": "ProgressView",
            "style": "IPY_MODEL_433a1c63571b4d6db106f47ed741ae85",
            "_dom_classes": [],
            "description": "100%",
            "_model_name": "FloatProgressModel",
            "bar_style": "success",
            "max": 339,
            "_view_module": "@jupyter-widgets/controls",
            "_model_module_version": "1.5.0",
            "value": 339,
            "_view_count": null,
            "_view_module_version": "1.5.0",
            "orientation": "horizontal",
            "min": 0,
            "description_tooltip": null,
            "_model_module": "@jupyter-widgets/controls",
            "layout": "IPY_MODEL_b1dcc34c88294593bb7da4170b9429b3"
          }
        },
        "0c8d5564b174405da39ede74d7009339": {
          "model_module": "@jupyter-widgets/controls",
          "model_name": "HTMLModel",
          "state": {
            "_view_name": "HTMLView",
            "style": "IPY_MODEL_c6e8570eb4a44368bd59736992a17940",
            "_dom_classes": [],
            "description": "",
            "_model_name": "HTMLModel",
            "placeholder": "​",
            "_view_module": "@jupyter-widgets/controls",
            "_model_module_version": "1.5.0",
            "value": " 339/339 [08:15&lt;00:00,  1.46s/it]",
            "_view_count": null,
            "_view_module_version": "1.5.0",
            "description_tooltip": null,
            "_model_module": "@jupyter-widgets/controls",
            "layout": "IPY_MODEL_edbc7d79213941ba9281725183221195"
          }
        },
        "433a1c63571b4d6db106f47ed741ae85": {
          "model_module": "@jupyter-widgets/controls",
          "model_name": "ProgressStyleModel",
          "state": {
            "_view_name": "StyleView",
            "_model_name": "ProgressStyleModel",
            "description_width": "initial",
            "_view_module": "@jupyter-widgets/base",
            "_model_module_version": "1.5.0",
            "_view_count": null,
            "_view_module_version": "1.2.0",
            "bar_color": null,
            "_model_module": "@jupyter-widgets/controls"
          }
        },
        "b1dcc34c88294593bb7da4170b9429b3": {
          "model_module": "@jupyter-widgets/base",
          "model_name": "LayoutModel",
          "state": {
            "_view_name": "LayoutView",
            "grid_template_rows": null,
            "right": null,
            "justify_content": null,
            "_view_module": "@jupyter-widgets/base",
            "overflow": null,
            "_model_module_version": "1.2.0",
            "_view_count": null,
            "flex_flow": null,
            "width": null,
            "min_width": null,
            "border": null,
            "align_items": null,
            "bottom": null,
            "_model_module": "@jupyter-widgets/base",
            "top": null,
            "grid_column": null,
            "overflow_y": null,
            "overflow_x": null,
            "grid_auto_flow": null,
            "grid_area": null,
            "grid_template_columns": null,
            "flex": null,
            "_model_name": "LayoutModel",
            "justify_items": null,
            "grid_row": null,
            "max_height": null,
            "align_content": null,
            "visibility": null,
            "align_self": null,
            "height": null,
            "min_height": null,
            "padding": null,
            "grid_auto_rows": null,
            "grid_gap": null,
            "max_width": null,
            "order": null,
            "_view_module_version": "1.2.0",
            "grid_template_areas": null,
            "object_position": null,
            "object_fit": null,
            "grid_auto_columns": null,
            "margin": null,
            "display": null,
            "left": null
          }
        },
        "c6e8570eb4a44368bd59736992a17940": {
          "model_module": "@jupyter-widgets/controls",
          "model_name": "DescriptionStyleModel",
          "state": {
            "_view_name": "StyleView",
            "_model_name": "DescriptionStyleModel",
            "description_width": "",
            "_view_module": "@jupyter-widgets/base",
            "_model_module_version": "1.5.0",
            "_view_count": null,
            "_view_module_version": "1.2.0",
            "_model_module": "@jupyter-widgets/controls"
          }
        },
        "edbc7d79213941ba9281725183221195": {
          "model_module": "@jupyter-widgets/base",
          "model_name": "LayoutModel",
          "state": {
            "_view_name": "LayoutView",
            "grid_template_rows": null,
            "right": null,
            "justify_content": null,
            "_view_module": "@jupyter-widgets/base",
            "overflow": null,
            "_model_module_version": "1.2.0",
            "_view_count": null,
            "flex_flow": null,
            "width": null,
            "min_width": null,
            "border": null,
            "align_items": null,
            "bottom": null,
            "_model_module": "@jupyter-widgets/base",
            "top": null,
            "grid_column": null,
            "overflow_y": null,
            "overflow_x": null,
            "grid_auto_flow": null,
            "grid_area": null,
            "grid_template_columns": null,
            "flex": null,
            "_model_name": "LayoutModel",
            "justify_items": null,
            "grid_row": null,
            "max_height": null,
            "align_content": null,
            "visibility": null,
            "align_self": null,
            "height": null,
            "min_height": null,
            "padding": null,
            "grid_auto_rows": null,
            "grid_gap": null,
            "max_width": null,
            "order": null,
            "_view_module_version": "1.2.0",
            "grid_template_areas": null,
            "object_position": null,
            "object_fit": null,
            "grid_auto_columns": null,
            "margin": null,
            "display": null,
            "left": null
          }
        }
      }
    }
  },
  "cells": [
    {
      "cell_type": "code",
      "metadata": {
        "id": "KT29CZMr8jD3"
      },
      "source": [
        "workDir = \"/content/gdrive/MyDrive/\""
      ],
      "execution_count": null,
      "outputs": []
    },
    {
      "cell_type": "code",
      "metadata": {
        "id": "8PmLUSO0Pq3j"
      },
      "source": [
        "MOUNT_GDRIVE = True"
      ],
      "execution_count": null,
      "outputs": []
    },
    {
      "cell_type": "code",
      "metadata": {
        "colab": {
          "base_uri": "https://localhost:8080/"
        },
        "id": "WBtxaGzw457p",
        "outputId": "e028a9d4-f1d5-4bfe-9b05-7e0e83ea3a77"
      },
      "source": [
        "if MOUNT_GDIRVE:\n",
        "  from google.colab import drive\n",
        "  drive.mount(\"/content/gdrive\")"
      ],
      "execution_count": null,
      "outputs": [
        {
          "output_type": "stream",
          "text": [
            "Mounted at /content/drive\n"
          ],
          "name": "stdout"
        }
      ]
    },
    {
      "cell_type": "code",
      "metadata": {
        "id": "syuHaBczPriO"
      },
      "source": [
        "import os\n",
        "import re\n",
        "import sys\n",
        "import glob\n",
        "import csv\n",
        "import nltk\n",
        "import numpy as np\n",
        "import pandas as pd\n",
        "from tqdm.notebook import tqdm\n",
        "from uuid import uuid4\n",
        "from functools import reduce\n",
        "from multiprocessing import Pool"
      ],
      "execution_count": null,
      "outputs": []
    },
    {
      "cell_type": "code",
      "metadata": {
        "colab": {
          "base_uri": "https://localhost:8080/"
        },
        "id": "ZFNndTUN5dj8",
        "outputId": "bfc26f56-e10b-4cc6-c4e6-0d5ab214a951"
      },
      "source": [
        "%cd /content/workDir"
      ],
      "execution_count": null,
      "outputs": [
        {
          "output_type": "stream",
          "text": [
            "/content/drive/Shareddrives/NLP Bias\n"
          ],
          "name": "stdout"
        }
      ]
    },
    {
      "cell_type": "code",
      "metadata": {
        "colab": {
          "base_uri": "https://localhost:8080/"
        },
        "id": "i-vJlic2gehq",
        "outputId": "85e5527e-5aba-481b-c860-336fad14e846"
      },
      "source": [
        "!pip install wikiextractor"
      ],
      "execution_count": null,
      "outputs": [
        {
          "output_type": "stream",
          "text": [
            "Collecting wikiextractor\n",
            "\u001b[?25l  Downloading https://files.pythonhosted.org/packages/0c/bd/6b8ffc89fa4abefd801f7b0f83bc17382664484bd32eb6529b243d7a8f12/wikiextractor-3.0.4-py3-none-any.whl (46kB)\n",
            "\r\u001b[K     |███████                         | 10kB 14.1MB/s eta 0:00:01\r\u001b[K     |██████████████▏                 | 20kB 19.5MB/s eta 0:00:01\r\u001b[K     |█████████████████████▏          | 30kB 24.0MB/s eta 0:00:01\r\u001b[K     |████████████████████████████▎   | 40kB 27.3MB/s eta 0:00:01\r\u001b[K     |████████████████████████████████| 51kB 5.7MB/s \n",
            "\u001b[?25hInstalling collected packages: wikiextractor\n",
            "Successfully installed wikiextractor-3.0.4\n"
          ],
          "name": "stdout"
        }
      ]
    },
    {
      "cell_type": "markdown",
      "metadata": {
        "id": "Erq_vY7edPKq"
      },
      "source": [
        "Downloading a part of latest Wikipedia English Articles Dump"
      ]
    },
    {
      "cell_type": "code",
      "metadata": {
        "id": "e5cS_P-qwAQ-"
      },
      "source": [
        "!wget https://dumps.wikimedia.org/enwiki/latest/enwiki-latest-pages-articles-multistream1.xml-p1p41242.bz2"
      ],
      "execution_count": null,
      "outputs": []
    },
    {
      "cell_type": "markdown",
      "metadata": {
        "id": "ENvWb7K_dXui"
      },
      "source": [
        "Extracting compressed file"
      ]
    },
    {
      "cell_type": "code",
      "metadata": {
        "colab": {
          "base_uri": "https://localhost:8080/"
        },
        "id": "Wwyj2kRewZab",
        "outputId": "049a2067-4dfb-4e7a-9fb2-fde09bd8350f"
      },
      "source": [
        "!wikiextractor -o \"{workDir}/extracted\" --processes 8 enwiki-latest-pages-articles-multistream1.xml-p1p41242.bz2"
      ],
      "execution_count": null,
      "outputs": [
        {
          "output_type": "stream",
          "text": [
            "INFO: Preprocessing 'enwiki-latest-pages-articles-multistream1.xml-p1p41242.bz2' to collect template definitions: this may take some time.\n",
            "INFO: Loaded 0 templates in 80.1s\n",
            "INFO: Starting page extraction from enwiki-latest-pages-articles-multistream1.xml-p1p41242.bz2.\n",
            "INFO: Using 8 extract processes.\n",
            "INFO: Finished 8-process extraction of 27197 articles in 185.7s (146.5 art/s)\n"
          ],
          "name": "stdout"
        }
      ]
    },
    {
      "cell_type": "markdown",
      "metadata": {
        "id": "NBWrEniTeVGk"
      },
      "source": [
        "This code for post processing wikidump is inspired by the following gist\n",
        "https://gist.github.com/snakers4/e0b0e68904db65671ca979639b337f7b"
      ]
    },
    {
      "cell_type": "code",
      "metadata": {
        "id": "CD51OFHHXaWq"
      },
      "source": [
        "def _remove_special_chars(string):\n",
        "  # remove any special symbol\n",
        "    return re.sub('[^a-zA-Z]', '', string)\n",
        "\n",
        "def _trim_string(string):\n",
        "    # remove extra spaces, remove trailing spaces, lower the case \n",
        "    return re.sub('\\s+',' ',string).strip().lower()\n",
        "\n",
        "def clean_string(string, min_len=2, max_len=30):\n",
        "    string = _remove_special_chars(string)\n",
        "    string = _trim_string(string)\n",
        "    return string\n",
        "\n",
        "def splitkeepsep(s, sep):\n",
        "    cleaned = []\n",
        "    s = re.split(\"(%s)\" % re.escape(sep), s)\n",
        "\n",
        "    for _ in s:\n",
        "      #remove title\n",
        "      if _.find('\\n\\n') != -1:\n",
        "        _ = _[_.find('\\n\\n'):]\n",
        "      #adding removed > tag to process together later\n",
        "      if _!='' and _!=sep:\n",
        "          cleaned.append(sep+'>'+_)\n",
        "    return cleaned\n",
        "\n",
        "def remove_html_tags(text):\n",
        "    clean = re.compile('<.*?>')\n",
        "    return re.sub(clean, '', text)"
      ],
      "execution_count": null,
      "outputs": []
    },
    {
      "cell_type": "code",
      "metadata": {
        "id": "ZVjCPQ1JgFMI"
      },
      "source": [
        "def process_wiki_files(wiki_file):\n",
        "    with open(wiki_file, encoding='utf-8') as f:\n",
        "        content = f.read()\n",
        "\n",
        "    articles = splitkeepsep(content,'<doc id=')\n",
        "    df = pd.DataFrame(columns=['article_uuid','sentence','proc_sentence','proc_len'])\n",
        "\n",
        "    for article in articles:\n",
        "        uuid = uuid4()\n",
        "        article = remove_html_tags(article).replace('\\n','').replace(u'\\xa0', u' ') \n",
        "      \n",
        "        #remove empty articles\n",
        "        if article == '':\n",
        "          continue\n",
        "\n",
        "        sentences = nltk.sent_tokenize(article)\n",
        "        proc_sentences = [clean_string(sentence) for sentence in sentences]\n",
        "        proc_lens = [len(sentence.split(' ')) for sentence in proc_sentences]\n",
        "        \n",
        "        temp_df = pd.DataFrame(\n",
        "            {'article_uuid': [uuid]*len(sentences),\n",
        "             'sentence': sentences,\n",
        "             'proc_sentence':proc_sentences,\n",
        "             'proc_len':proc_lens\n",
        "            })\n",
        "        df = df.append(temp_df)\n",
        "    \n",
        "    return df"
      ],
      "execution_count": null,
      "outputs": []
    },
    {
      "cell_type": "code",
      "metadata": {
        "id": "QtqrXL5Wghnr"
      },
      "source": [
        "def list_multiprocessing(param_lst, func, **kwargs):\n",
        "    workers = kwargs.pop('workers')\n",
        "\n",
        "    with Pool(workers) as p:\n",
        "        apply_lst = [([params], func, i, kwargs) for i,params in enumerate(param_lst)]\n",
        "        result = list(tqdm(p.imap(_apply_lst, apply_lst), total=len(apply_lst)))\n",
        "\n",
        "    result=sorted(result,key=lambda x:x[0])\n",
        "    return [_[1] for _ in result]\n",
        "\n",
        "def _apply_lst(args):\n",
        "    params, func, num, kwargs = args\n",
        "    return num, func(*params,**kwargs)"
      ],
      "execution_count": null,
      "outputs": []
    },
    {
      "cell_type": "code",
      "metadata": {
        "colab": {
          "base_uri": "https://localhost:8080/",
          "height": 137,
          "referenced_widgets": [
            "248248cdd240484ebd96c9cbeb8cef27",
            "5a418720133e4dc3b256c5a91aa0be1e",
            "096f3f2646224fd4a8b30aca0f23fa2a",
            "0c8d5564b174405da39ede74d7009339",
            "433a1c63571b4d6db106f47ed741ae85",
            "b1dcc34c88294593bb7da4170b9429b3",
            "c6e8570eb4a44368bd59736992a17940",
            "edbc7d79213941ba9281725183221195"
          ]
        },
        "id": "pxzHig7I8Vex",
        "outputId": "ba3379e2-c56a-4d5e-f365-99b369e14666"
      },
      "source": [
        "nltk.download('punkt')\n",
        "\n",
        "wiki_files = []\n",
        "\n",
        "for f in glob.iglob(f'{workDir}/extracted/*/*', recursive=True):\n",
        "    wiki_files.append(f)\n",
        "  \n",
        "df = list_multiprocessing(wiki_files, process_wiki_files, workers=4)\n",
        "\n",
        "df = pd.concat(df).reset_index(drop=True)\n",
        "df.article_uuid = df.article_uuid.astype(str)"
      ],
      "execution_count": null,
      "outputs": [
        {
          "output_type": "stream",
          "text": [
            "[nltk_data] Downloading package stopwords to /root/nltk_data...\n",
            "[nltk_data]   Package stopwords is already up-to-date!\n",
            "[nltk_data] Downloading package punkt to /root/nltk_data...\n",
            "[nltk_data]   Package punkt is already up-to-date!\n"
          ],
          "name": "stdout"
        },
        {
          "output_type": "display_data",
          "data": {
            "application/vnd.jupyter.widget-view+json": {
              "model_id": "248248cdd240484ebd96c9cbeb8cef27",
              "version_minor": 0,
              "version_major": 2
            },
            "text/plain": [
              "HBox(children=(FloatProgress(value=0.0, max=339.0), HTML(value='')))"
            ]
          },
          "metadata": {
            "tags": []
          }
        },
        {
          "output_type": "stream",
          "text": [
            "\n"
          ],
          "name": "stdout"
        }
      ]
    },
    {
      "cell_type": "markdown",
      "metadata": {
        "id": "bJyAUu7td2Jz"
      },
      "source": [
        "Saving 5 sets with 1L sentences each from the parsed dataset"
      ]
    },
    {
      "cell_type": "code",
      "metadata": {
        "id": "-PrCOnlnXteT"
      },
      "source": [
        "for i in range(1, 6):\n",
        "  df[i*100000:(i+1)*100000].to_csv(f'{workDir}/data/original/o{i}.csv')"
      ],
      "execution_count": null,
      "outputs": []
    },
    {
      "cell_type": "markdown",
      "metadata": {
        "id": "YRdnCK_rd9Sa"
      },
      "source": [
        "The gender swap list has been curated from https://github.com/ranjita-naik/Gender_Swapping/tree/main/swaps and comprises of 260 pairs"
      ]
    },
    {
      "cell_type": "code",
      "metadata": {
        "id": "gbpvH54BDZbI"
      },
      "source": [
        "gender_dict = dict()\n",
        "\n",
        "gender_words = []\n",
        "with open(f'{workDir}/gender_list.csv', 'r') as f:\n",
        "  reader = csv.reader(f)\n",
        "  for row in reader:\n",
        "    gender_words.append((row[0], row[1]))\n",
        "gender_words.pop(0)"
      ],
      "execution_count": null,
      "outputs": []
    },
    {
      "cell_type": "code",
      "metadata": {
        "id": "NunLJYLdEQi5"
      },
      "source": [
        "for m, f in gender_words:\n",
        "  gender_dict[m] = f\n",
        "  gender_dict[f] = m"
      ],
      "execution_count": null,
      "outputs": []
    },
    {
      "cell_type": "code",
      "metadata": {
        "id": "ZfhQWJ9OF3ha"
      },
      "source": [
        "replaced = 0"
      ],
      "execution_count": null,
      "outputs": []
    },
    {
      "cell_type": "code",
      "metadata": {
        "id": "ePIG68jl8aLw"
      },
      "source": [
        "def replace_gender(sen, gender_dict):\n",
        "  tok = sen.split(' ')\n",
        "  tok2 = []\n",
        "  global replaced\n",
        "  for t in tok:\n",
        "    if t in gender_dict:\n",
        "      tok2.append(gender_dict[t])\n",
        "      replaced += 1\n",
        "    else:\n",
        "      tok2.append(t)\n",
        "  return \" \".join(tok2)"
      ],
      "execution_count": null,
      "outputs": []
    },
    {
      "cell_type": "markdown",
      "metadata": {
        "id": "RGSBn3m9e57m"
      },
      "source": [
        "Creating the swapped version of data"
      ]
    },
    {
      "cell_type": "code",
      "metadata": {
        "id": "_lUDWYQAZ5_h"
      },
      "source": [
        "for i in range(1, 6):\n",
        "  with open(f'{workDir}/data/swapped/s{i}.csv', 'w') as f:\n",
        "    wr = csv.writer(f)\n",
        "    wr.writerow(list(df.columns.values))\n",
        "    for row in df[i*100000:(i+1)*100000]:\n",
        "      wr.writerow([row[0], row[1], row[2], replace_words(row[3], gender_dict), row[4]])"
      ],
      "execution_count": null,
      "outputs": []
    },
    {
      "cell_type": "code",
      "metadata": {
        "id": "xuYKupaAaZzX"
      },
      "source": [
        "print(replaced)"
      ],
      "execution_count": null,
      "outputs": []
    }
  ]
}